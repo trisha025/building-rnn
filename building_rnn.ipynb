{
  "nbformat": 4,
  "nbformat_minor": 0,
  "metadata": {
    "colab": {
      "name": "building-rnn.ipynb",
      "version": "0.3.2",
      "provenance": [],
      "collapsed_sections": [],
      "include_colab_link": true
    },
    "kernelspec": {
      "name": "python3",
      "display_name": "Python 3"
    },
    "accelerator": "GPU"
  },
  "cells": [
    {
      "cell_type": "markdown",
      "metadata": {
        "id": "view-in-github",
        "colab_type": "text"
      },
      "source": [
        "<a href=\"https://colab.research.google.com/github/trisha025/building-rnn/blob/master/building_rnn.ipynb\" target=\"_parent\"><img src=\"https://colab.research.google.com/assets/colab-badge.svg\" alt=\"Open In Colab\"/></a>"
      ]
    },
    {
      "metadata": {
        "id": "GwfBYWihEtrz",
        "colab_type": "code",
        "colab": {}
      },
      "cell_type": "code",
      "source": [
        "#importing libraries\n",
        "import numpy as np\n",
        "import matplotlib.pyplot as plt\n",
        "import pandas as pd"
      ],
      "execution_count": 0,
      "outputs": []
    },
    {
      "metadata": {
        "id": "EIC9ZHUWNE2B",
        "colab_type": "code",
        "outputId": "ccecd33c-7fef-4af5-b75b-ce17ecf7fc86",
        "colab": {
          "base_uri": "https://localhost:8080/",
          "height": 119
        }
      },
      "cell_type": "code",
      "source": [
        "#importing repository from github\n",
        "!git clone https://github.com/EKami/deep_learning_A-Z.git"
      ],
      "execution_count": 2,
      "outputs": [
        {
          "output_type": "stream",
          "text": [
            "Cloning into 'deep_learning_A-Z'...\n",
            "remote: Enumerating objects: 10305, done.\u001b[K\n",
            "remote: Total 10305 (delta 0), reused 0 (delta 0), pack-reused 10305\u001b[K\n",
            "Receiving objects: 100% (10305/10305), 237.98 MiB | 31.07 MiB/s, done.\n",
            "Resolving deltas: 100% (142/142), done.\n",
            "Checking out files: 100% (10130/10130), done.\n"
          ],
          "name": "stdout"
        }
      ]
    },
    {
      "metadata": {
        "id": "ODhM9o3mNE7d",
        "colab_type": "code",
        "colab": {}
      },
      "cell_type": "code",
      "source": [
        "#uploading training dataset\n",
        "training_set = pd.read_csv('deep_learning_A-Z/Volume_1-Supervised_Deep_Learning/Part_3-Recurrent_Neural_Networks-RNN/dataset/Google_Stock_Price_Train.csv')"
      ],
      "execution_count": 0,
      "outputs": []
    },
    {
      "metadata": {
        "id": "4l8jxEM7NE-7",
        "colab_type": "code",
        "colab": {}
      },
      "cell_type": "code",
      "source": [
        "#extracting the first column\n",
        "training_set = training_set.iloc[:, 1:2].values"
      ],
      "execution_count": 0,
      "outputs": []
    },
    {
      "metadata": {
        "id": "zaHEdW4BWgT_",
        "colab_type": "code",
        "colab": {}
      },
      "cell_type": "code",
      "source": [
        "#importing libraries for feature scaling\n",
        "from sklearn.preprocessing import MinMaxScaler"
      ],
      "execution_count": 0,
      "outputs": []
    },
    {
      "metadata": {
        "id": "4DHGTOCRWgSF",
        "colab_type": "code",
        "colab": {}
      },
      "cell_type": "code",
      "source": [
        "sc = MinMaxScaler()\n",
        "training_set = sc.fit_transform(training_set)"
      ],
      "execution_count": 0,
      "outputs": []
    },
    {
      "metadata": {
        "id": "yshIHNRWWgQV",
        "colab_type": "code",
        "outputId": "c47afb3f-4230-4390-ccf0-eb4a45dc1e09",
        "colab": {
          "base_uri": "https://localhost:8080/",
          "height": 136
        }
      },
      "cell_type": "code",
      "source": [
        "print(training_set)"
      ],
      "execution_count": 7,
      "outputs": [
        {
          "output_type": "stream",
          "text": [
            "[[0.08581368]\n",
            " [0.09701243]\n",
            " [0.09433366]\n",
            " ...\n",
            " [0.95725128]\n",
            " [0.93796041]\n",
            " [0.93688146]]\n"
          ],
          "name": "stdout"
        }
      ]
    },
    {
      "metadata": {
        "id": "2TWV1Z_gWgOm",
        "colab_type": "code",
        "colab": {}
      },
      "cell_type": "code",
      "source": [
        "X_train = training_set[0:1257]"
      ],
      "execution_count": 0,
      "outputs": []
    },
    {
      "metadata": {
        "id": "5W4tezMjWgK-",
        "colab_type": "code",
        "colab": {}
      },
      "cell_type": "code",
      "source": [
        "y_train = training_set[1:1258]"
      ],
      "execution_count": 0,
      "outputs": []
    },
    {
      "metadata": {
        "id": "mHtgHFVnWgFG",
        "colab_type": "code",
        "colab": {}
      },
      "cell_type": "code",
      "source": [
        "#reshaping to 3D\n",
        "X_train = np.reshape(X_train, (1257, 1, 1))"
      ],
      "execution_count": 0,
      "outputs": []
    },
    {
      "metadata": {
        "id": "omCll0W0kXlh",
        "colab_type": "code",
        "colab": {
          "base_uri": "https://localhost:8080/",
          "height": 34
        },
        "outputId": "c56a776e-5707-47b5-c8f8-947c1e05063a"
      },
      "cell_type": "code",
      "source": [
        "#importing keras models and layers\n",
        "from keras.models import Sequential\n",
        "from keras.layers import Dense\n",
        "from keras.layers import LSTM"
      ],
      "execution_count": 11,
      "outputs": [
        {
          "output_type": "stream",
          "text": [
            "Using TensorFlow backend.\n"
          ],
          "name": "stderr"
        }
      ]
    },
    {
      "metadata": {
        "id": "D8yNwSPGkXgd",
        "colab_type": "code",
        "colab": {}
      },
      "cell_type": "code",
      "source": [
        "#initialising rnn\n",
        "regressor = Sequential()"
      ],
      "execution_count": 0,
      "outputs": []
    },
    {
      "metadata": {
        "id": "lQaqnyu2kXbu",
        "colab_type": "code",
        "colab": {}
      },
      "cell_type": "code",
      "source": [
        "#adding LSTM layer\n",
        "regressor.add(LSTM(units = 4, activation = 'sigmoid', input_shape = (None, 1)))"
      ],
      "execution_count": 0,
      "outputs": []
    },
    {
      "metadata": {
        "id": "rANInZkUof1Q",
        "colab_type": "code",
        "colab": {}
      },
      "cell_type": "code",
      "source": [
        "#adding output layer\n",
        "regressor.add(Dense(units = 1))"
      ],
      "execution_count": 0,
      "outputs": []
    },
    {
      "metadata": {
        "id": "uvpC18Z8opE6",
        "colab_type": "code",
        "colab": {}
      },
      "cell_type": "code",
      "source": [
        "#compiling the model\n",
        "regressor.compile(optimizer = 'adam', loss = 'mean_squared_error')"
      ],
      "execution_count": 0,
      "outputs": []
    },
    {
      "metadata": {
        "id": "vV1kdx6jopC8",
        "colab_type": "code",
        "outputId": "b51f1920-55c0-41ea-8b59-39d99e19ec99",
        "colab": {
          "base_uri": "https://localhost:8080/",
          "height": 6834
        }
      },
      "cell_type": "code",
      "source": [
        "#fitting the model\n",
        "regressor.fit(x = X_train, y = y_train, batch_size = 32, epochs = 200)"
      ],
      "execution_count": 16,
      "outputs": [
        {
          "output_type": "stream",
          "text": [
            "Epoch 1/200\n",
            "1257/1257 [==============================] - 3s 2ms/step - loss: 0.0870\n",
            "Epoch 2/200\n",
            "1257/1257 [==============================] - 0s 226us/step - loss: 0.0817\n",
            "Epoch 3/200\n",
            "1257/1257 [==============================] - 0s 227us/step - loss: 0.0798\n",
            "Epoch 4/200\n",
            "1257/1257 [==============================] - 0s 231us/step - loss: 0.0779\n",
            "Epoch 5/200\n",
            "1257/1257 [==============================] - 0s 226us/step - loss: 0.0760\n",
            "Epoch 6/200\n",
            "1257/1257 [==============================] - 0s 235us/step - loss: 0.0740\n",
            "Epoch 7/200\n",
            "1257/1257 [==============================] - 0s 223us/step - loss: 0.0719\n",
            "Epoch 8/200\n",
            "1257/1257 [==============================] - 0s 233us/step - loss: 0.0699\n",
            "Epoch 9/200\n",
            "1257/1257 [==============================] - 0s 219us/step - loss: 0.0677\n",
            "Epoch 10/200\n",
            "1257/1257 [==============================] - 0s 239us/step - loss: 0.0655\n",
            "Epoch 11/200\n",
            "1257/1257 [==============================] - 0s 226us/step - loss: 0.0632\n",
            "Epoch 12/200\n",
            "1257/1257 [==============================] - 0s 230us/step - loss: 0.0609\n",
            "Epoch 13/200\n",
            "1257/1257 [==============================] - 0s 235us/step - loss: 0.0585\n",
            "Epoch 14/200\n",
            "1257/1257 [==============================] - 0s 230us/step - loss: 0.0561\n",
            "Epoch 15/200\n",
            "1257/1257 [==============================] - 0s 231us/step - loss: 0.0535\n",
            "Epoch 16/200\n",
            "1257/1257 [==============================] - 0s 222us/step - loss: 0.0509\n",
            "Epoch 17/200\n",
            "1257/1257 [==============================] - 0s 238us/step - loss: 0.0483\n",
            "Epoch 18/200\n",
            "1257/1257 [==============================] - 0s 235us/step - loss: 0.0456\n",
            "Epoch 19/200\n",
            "1257/1257 [==============================] - 0s 221us/step - loss: 0.0429\n",
            "Epoch 20/200\n",
            "1257/1257 [==============================] - 0s 236us/step - loss: 0.0403\n",
            "Epoch 21/200\n",
            "1257/1257 [==============================] - 0s 223us/step - loss: 0.0374\n",
            "Epoch 22/200\n",
            "1257/1257 [==============================] - 0s 230us/step - loss: 0.0347\n",
            "Epoch 23/200\n",
            "1257/1257 [==============================] - 0s 219us/step - loss: 0.0319\n",
            "Epoch 24/200\n",
            "1257/1257 [==============================] - 0s 232us/step - loss: 0.0292\n",
            "Epoch 25/200\n",
            "1257/1257 [==============================] - 0s 228us/step - loss: 0.0265\n",
            "Epoch 26/200\n",
            "1257/1257 [==============================] - 0s 223us/step - loss: 0.0240\n",
            "Epoch 27/200\n",
            "1257/1257 [==============================] - 0s 228us/step - loss: 0.0215\n",
            "Epoch 28/200\n",
            "1257/1257 [==============================] - 0s 224us/step - loss: 0.0192\n",
            "Epoch 29/200\n",
            "1257/1257 [==============================] - 0s 222us/step - loss: 0.0169\n",
            "Epoch 30/200\n",
            "1257/1257 [==============================] - 0s 229us/step - loss: 0.0148\n",
            "Epoch 31/200\n",
            "1257/1257 [==============================] - 0s 238us/step - loss: 0.0128\n",
            "Epoch 32/200\n",
            "1257/1257 [==============================] - 0s 229us/step - loss: 0.0110\n",
            "Epoch 33/200\n",
            "1257/1257 [==============================] - 0s 219us/step - loss: 0.0094\n",
            "Epoch 34/200\n",
            "1257/1257 [==============================] - 0s 230us/step - loss: 0.0079\n",
            "Epoch 35/200\n",
            "1257/1257 [==============================] - 0s 223us/step - loss: 0.0066\n",
            "Epoch 36/200\n",
            "1257/1257 [==============================] - 0s 237us/step - loss: 0.0055\n",
            "Epoch 37/200\n",
            "1257/1257 [==============================] - 0s 231us/step - loss: 0.0045\n",
            "Epoch 38/200\n",
            "1257/1257 [==============================] - 0s 231us/step - loss: 0.0036\n",
            "Epoch 39/200\n",
            "1257/1257 [==============================] - 0s 230us/step - loss: 0.0029\n",
            "Epoch 40/200\n",
            "1257/1257 [==============================] - 0s 232us/step - loss: 0.0023\n",
            "Epoch 41/200\n",
            "1257/1257 [==============================] - 0s 221us/step - loss: 0.0019\n",
            "Epoch 42/200\n",
            "1257/1257 [==============================] - 0s 241us/step - loss: 0.0015\n",
            "Epoch 43/200\n",
            "1257/1257 [==============================] - 0s 221us/step - loss: 0.0012\n",
            "Epoch 44/200\n",
            "1257/1257 [==============================] - 0s 227us/step - loss: 9.3681e-04\n",
            "Epoch 45/200\n",
            "1257/1257 [==============================] - 0s 232us/step - loss: 7.4909e-04\n",
            "Epoch 46/200\n",
            "1257/1257 [==============================] - 0s 220us/step - loss: 6.1263e-04\n",
            "Epoch 47/200\n",
            "1257/1257 [==============================] - 0s 227us/step - loss: 5.0836e-04\n",
            "Epoch 48/200\n",
            "1257/1257 [==============================] - 0s 221us/step - loss: 4.3161e-04\n",
            "Epoch 49/200\n",
            "1257/1257 [==============================] - 0s 240us/step - loss: 3.7409e-04\n",
            "Epoch 50/200\n",
            "1257/1257 [==============================] - 0s 226us/step - loss: 3.3624e-04\n",
            "Epoch 51/200\n",
            "1257/1257 [==============================] - 0s 225us/step - loss: 3.0682e-04\n",
            "Epoch 52/200\n",
            "1257/1257 [==============================] - 0s 241us/step - loss: 2.8739e-04\n",
            "Epoch 53/200\n",
            "1257/1257 [==============================] - 0s 231us/step - loss: 2.7413e-04\n",
            "Epoch 54/200\n",
            "1257/1257 [==============================] - 0s 230us/step - loss: 2.6447e-04\n",
            "Epoch 55/200\n",
            "1257/1257 [==============================] - 0s 233us/step - loss: 2.5706e-04\n",
            "Epoch 56/200\n",
            "1257/1257 [==============================] - 0s 239us/step - loss: 2.5321e-04\n",
            "Epoch 57/200\n",
            "1257/1257 [==============================] - 0s 220us/step - loss: 2.5074e-04\n",
            "Epoch 58/200\n",
            "1257/1257 [==============================] - 0s 233us/step - loss: 2.4895e-04\n",
            "Epoch 59/200\n",
            "1257/1257 [==============================] - 0s 237us/step - loss: 2.4820e-04\n",
            "Epoch 60/200\n",
            "1257/1257 [==============================] - 0s 232us/step - loss: 2.4738e-04\n",
            "Epoch 61/200\n",
            "1257/1257 [==============================] - 0s 238us/step - loss: 2.4733e-04\n",
            "Epoch 62/200\n",
            "1257/1257 [==============================] - 0s 234us/step - loss: 2.4625e-04\n",
            "Epoch 63/200\n",
            "1257/1257 [==============================] - 0s 244us/step - loss: 2.4635e-04\n",
            "Epoch 64/200\n",
            "1257/1257 [==============================] - 0s 240us/step - loss: 2.4659e-04\n",
            "Epoch 65/200\n",
            "1257/1257 [==============================] - 0s 241us/step - loss: 2.4676e-04\n",
            "Epoch 66/200\n",
            "1257/1257 [==============================] - 0s 246us/step - loss: 2.4619e-04\n",
            "Epoch 67/200\n",
            "1257/1257 [==============================] - 0s 240us/step - loss: 2.4659e-04\n",
            "Epoch 68/200\n",
            "1257/1257 [==============================] - 0s 223us/step - loss: 2.4593e-04\n",
            "Epoch 69/200\n",
            "1257/1257 [==============================] - 0s 237us/step - loss: 2.4631e-04\n",
            "Epoch 70/200\n",
            "1257/1257 [==============================] - 0s 231us/step - loss: 2.4560e-04\n",
            "Epoch 71/200\n",
            "1257/1257 [==============================] - 0s 223us/step - loss: 2.4661e-04\n",
            "Epoch 72/200\n",
            "1257/1257 [==============================] - 0s 225us/step - loss: 2.4595e-04\n",
            "Epoch 73/200\n",
            "1257/1257 [==============================] - 0s 235us/step - loss: 2.4659e-04\n",
            "Epoch 74/200\n",
            "1257/1257 [==============================] - 0s 226us/step - loss: 2.4647e-04\n",
            "Epoch 75/200\n",
            "1257/1257 [==============================] - 0s 225us/step - loss: 2.4731e-04\n",
            "Epoch 76/200\n",
            "1257/1257 [==============================] - 0s 221us/step - loss: 2.4533e-04\n",
            "Epoch 77/200\n",
            "1257/1257 [==============================] - 0s 234us/step - loss: 2.4598e-04\n",
            "Epoch 78/200\n",
            "1257/1257 [==============================] - 0s 230us/step - loss: 2.4713e-04\n",
            "Epoch 79/200\n",
            "1257/1257 [==============================] - 0s 231us/step - loss: 2.4620e-04\n",
            "Epoch 80/200\n",
            "1257/1257 [==============================] - 0s 238us/step - loss: 2.4810e-04\n",
            "Epoch 81/200\n",
            "1257/1257 [==============================] - 0s 227us/step - loss: 2.4749e-04\n",
            "Epoch 82/200\n",
            "1257/1257 [==============================] - 0s 224us/step - loss: 2.4631e-04\n",
            "Epoch 83/200\n",
            "1257/1257 [==============================] - 0s 241us/step - loss: 2.4584e-04\n",
            "Epoch 84/200\n",
            "1257/1257 [==============================] - 0s 238us/step - loss: 2.4638e-04\n",
            "Epoch 85/200\n",
            "1257/1257 [==============================] - 0s 233us/step - loss: 2.4486e-04\n",
            "Epoch 86/200\n",
            "1257/1257 [==============================] - 0s 224us/step - loss: 2.4712e-04\n",
            "Epoch 87/200\n",
            "1257/1257 [==============================] - 0s 241us/step - loss: 2.4740e-04\n",
            "Epoch 88/200\n",
            "1257/1257 [==============================] - 0s 228us/step - loss: 2.4783e-04\n",
            "Epoch 89/200\n",
            "1257/1257 [==============================] - 0s 233us/step - loss: 2.4648e-04\n",
            "Epoch 90/200\n",
            "1257/1257 [==============================] - 0s 222us/step - loss: 2.4562e-04\n",
            "Epoch 91/200\n",
            "1257/1257 [==============================] - 0s 237us/step - loss: 2.4642e-04\n",
            "Epoch 92/200\n",
            "1257/1257 [==============================] - 0s 223us/step - loss: 2.4641e-04\n",
            "Epoch 93/200\n",
            "1257/1257 [==============================] - 0s 231us/step - loss: 2.4958e-04\n",
            "Epoch 94/200\n",
            "1257/1257 [==============================] - 0s 234us/step - loss: 2.4617e-04\n",
            "Epoch 95/200\n",
            "1257/1257 [==============================] - 0s 221us/step - loss: 2.4605e-04\n",
            "Epoch 96/200\n",
            "1257/1257 [==============================] - 0s 230us/step - loss: 2.4543e-04\n",
            "Epoch 97/200\n",
            "1257/1257 [==============================] - 0s 221us/step - loss: 2.4808e-04\n",
            "Epoch 98/200\n",
            "1257/1257 [==============================] - 0s 238us/step - loss: 2.4721e-04\n",
            "Epoch 99/200\n",
            "1257/1257 [==============================] - 0s 221us/step - loss: 2.4731e-04\n",
            "Epoch 100/200\n",
            "1257/1257 [==============================] - 0s 224us/step - loss: 2.4747e-04\n",
            "Epoch 101/200\n",
            "1257/1257 [==============================] - 0s 240us/step - loss: 2.4618e-04\n",
            "Epoch 102/200\n",
            "1257/1257 [==============================] - 0s 227us/step - loss: 2.4641e-04\n",
            "Epoch 103/200\n",
            "1257/1257 [==============================] - 0s 225us/step - loss: 2.4588e-04\n",
            "Epoch 104/200\n",
            "1257/1257 [==============================] - 0s 229us/step - loss: 2.4583e-04\n",
            "Epoch 105/200\n",
            "1257/1257 [==============================] - 0s 242us/step - loss: 2.4596e-04\n",
            "Epoch 106/200\n",
            "1257/1257 [==============================] - 0s 233us/step - loss: 2.4596e-04\n",
            "Epoch 107/200\n",
            "1257/1257 [==============================] - 0s 233us/step - loss: 2.4817e-04\n",
            "Epoch 108/200\n",
            "1257/1257 [==============================] - 0s 246us/step - loss: 2.4673e-04\n",
            "Epoch 109/200\n",
            "1257/1257 [==============================] - 0s 235us/step - loss: 2.4539e-04\n",
            "Epoch 110/200\n",
            "1257/1257 [==============================] - 0s 224us/step - loss: 2.4728e-04\n",
            "Epoch 111/200\n",
            "1257/1257 [==============================] - 0s 227us/step - loss: 2.4512e-04\n",
            "Epoch 112/200\n",
            "1257/1257 [==============================] - 0s 242us/step - loss: 2.4625e-04\n",
            "Epoch 113/200\n",
            "1257/1257 [==============================] - 0s 230us/step - loss: 2.5229e-04\n",
            "Epoch 114/200\n",
            "1257/1257 [==============================] - 0s 226us/step - loss: 2.4728e-04\n",
            "Epoch 115/200\n",
            "1257/1257 [==============================] - 0s 242us/step - loss: 2.4693e-04\n",
            "Epoch 116/200\n",
            "1257/1257 [==============================] - 0s 229us/step - loss: 2.4646e-04\n",
            "Epoch 117/200\n",
            "1257/1257 [==============================] - 0s 231us/step - loss: 2.4592e-04\n",
            "Epoch 118/200\n",
            "1257/1257 [==============================] - 0s 222us/step - loss: 2.4530e-04\n",
            "Epoch 119/200\n",
            "1257/1257 [==============================] - 0s 238us/step - loss: 2.4777e-04\n",
            "Epoch 120/200\n",
            "1257/1257 [==============================] - 0s 239us/step - loss: 2.4634e-04\n",
            "Epoch 121/200\n",
            "1257/1257 [==============================] - 0s 229us/step - loss: 2.4668e-04\n",
            "Epoch 122/200\n",
            "1257/1257 [==============================] - 0s 235us/step - loss: 2.4784e-04\n",
            "Epoch 123/200\n",
            "1257/1257 [==============================] - 0s 234us/step - loss: 2.4626e-04\n",
            "Epoch 124/200\n",
            "1257/1257 [==============================] - 0s 224us/step - loss: 2.5192e-04\n",
            "Epoch 125/200\n",
            "1257/1257 [==============================] - 0s 232us/step - loss: 2.4753e-04\n",
            "Epoch 126/200\n",
            "1257/1257 [==============================] - 0s 237us/step - loss: 2.4751e-04\n",
            "Epoch 127/200\n",
            "1257/1257 [==============================] - 0s 232us/step - loss: 2.4438e-04\n",
            "Epoch 128/200\n",
            "1257/1257 [==============================] - 0s 221us/step - loss: 2.4839e-04\n",
            "Epoch 129/200\n",
            "1257/1257 [==============================] - 0s 241us/step - loss: 2.4772e-04\n",
            "Epoch 130/200\n",
            "1257/1257 [==============================] - 0s 230us/step - loss: 2.4714e-04\n",
            "Epoch 131/200\n",
            "1257/1257 [==============================] - 0s 220us/step - loss: 2.4750e-04\n",
            "Epoch 132/200\n",
            "1257/1257 [==============================] - 0s 220us/step - loss: 2.4647e-04\n",
            "Epoch 133/200\n",
            "1257/1257 [==============================] - 0s 232us/step - loss: 2.4581e-04\n",
            "Epoch 134/200\n",
            "1257/1257 [==============================] - 0s 222us/step - loss: 2.4971e-04\n",
            "Epoch 135/200\n",
            "1257/1257 [==============================] - 0s 226us/step - loss: 2.4639e-04\n",
            "Epoch 136/200\n",
            "1257/1257 [==============================] - 0s 234us/step - loss: 2.4700e-04\n",
            "Epoch 137/200\n",
            "1257/1257 [==============================] - 0s 224us/step - loss: 2.4554e-04\n",
            "Epoch 138/200\n",
            "1257/1257 [==============================] - 0s 223us/step - loss: 2.4576e-04\n",
            "Epoch 139/200\n",
            "1257/1257 [==============================] - 0s 224us/step - loss: 2.4703e-04\n",
            "Epoch 140/200\n",
            "1257/1257 [==============================] - 0s 235us/step - loss: 2.4614e-04\n",
            "Epoch 141/200\n",
            "1257/1257 [==============================] - 0s 222us/step - loss: 2.4619e-04\n",
            "Epoch 142/200\n",
            "1257/1257 [==============================] - 0s 225us/step - loss: 2.4537e-04\n",
            "Epoch 143/200\n",
            "1257/1257 [==============================] - 0s 222us/step - loss: 2.5087e-04\n",
            "Epoch 144/200\n",
            "1257/1257 [==============================] - 0s 240us/step - loss: 2.4874e-04\n",
            "Epoch 145/200\n",
            "1257/1257 [==============================] - 0s 236us/step - loss: 2.4664e-04\n",
            "Epoch 146/200\n",
            "1257/1257 [==============================] - 0s 235us/step - loss: 2.4895e-04\n",
            "Epoch 147/200\n",
            "1257/1257 [==============================] - 0s 235us/step - loss: 2.4723e-04\n",
            "Epoch 148/200\n",
            "1257/1257 [==============================] - 0s 223us/step - loss: 2.4534e-04\n",
            "Epoch 149/200\n",
            "1257/1257 [==============================] - 0s 224us/step - loss: 2.4907e-04\n",
            "Epoch 150/200\n",
            "1257/1257 [==============================] - 0s 224us/step - loss: 2.4726e-04\n",
            "Epoch 151/200\n",
            "1257/1257 [==============================] - 0s 232us/step - loss: 2.4665e-04\n",
            "Epoch 152/200\n",
            "1257/1257 [==============================] - 0s 228us/step - loss: 2.4668e-04\n",
            "Epoch 153/200\n",
            "1257/1257 [==============================] - 0s 231us/step - loss: 2.5090e-04\n",
            "Epoch 154/200\n",
            "1257/1257 [==============================] - 0s 238us/step - loss: 2.4989e-04\n",
            "Epoch 155/200\n",
            "1257/1257 [==============================] - 0s 235us/step - loss: 2.4626e-04\n",
            "Epoch 156/200\n",
            "1257/1257 [==============================] - 0s 233us/step - loss: 2.4621e-04\n",
            "Epoch 157/200\n",
            "1257/1257 [==============================] - 0s 231us/step - loss: 2.4556e-04\n",
            "Epoch 158/200\n",
            "1257/1257 [==============================] - 0s 243us/step - loss: 2.4705e-04\n",
            "Epoch 159/200\n",
            "1257/1257 [==============================] - 0s 243us/step - loss: 2.4538e-04\n",
            "Epoch 160/200\n",
            "1257/1257 [==============================] - 0s 239us/step - loss: 2.4846e-04\n",
            "Epoch 161/200\n",
            "1257/1257 [==============================] - 0s 243us/step - loss: 2.4565e-04\n",
            "Epoch 162/200\n",
            "1257/1257 [==============================] - 0s 242us/step - loss: 2.4761e-04\n",
            "Epoch 163/200\n",
            "1257/1257 [==============================] - 0s 237us/step - loss: 2.4715e-04\n",
            "Epoch 164/200\n",
            "1257/1257 [==============================] - 0s 244us/step - loss: 2.4554e-04\n",
            "Epoch 165/200\n",
            "1257/1257 [==============================] - 0s 241us/step - loss: 2.4634e-04\n",
            "Epoch 166/200\n",
            "1257/1257 [==============================] - 0s 235us/step - loss: 2.4816e-04\n",
            "Epoch 167/200\n",
            "1257/1257 [==============================] - 0s 237us/step - loss: 2.4584e-04\n",
            "Epoch 168/200\n",
            "1257/1257 [==============================] - 0s 240us/step - loss: 2.5036e-04\n",
            "Epoch 169/200\n",
            "1257/1257 [==============================] - 0s 237us/step - loss: 2.5320e-04\n",
            "Epoch 170/200\n",
            "1257/1257 [==============================] - 0s 235us/step - loss: 2.4928e-04\n",
            "Epoch 171/200\n",
            "1257/1257 [==============================] - 0s 243us/step - loss: 2.4847e-04\n",
            "Epoch 172/200\n",
            "1257/1257 [==============================] - 0s 240us/step - loss: 2.4907e-04\n",
            "Epoch 173/200\n",
            "1257/1257 [==============================] - 0s 234us/step - loss: 2.4634e-04\n",
            "Epoch 174/200\n",
            "1257/1257 [==============================] - 0s 234us/step - loss: 2.5241e-04\n",
            "Epoch 175/200\n",
            "1257/1257 [==============================] - 0s 243us/step - loss: 2.4897e-04\n",
            "Epoch 176/200\n",
            "1257/1257 [==============================] - 0s 238us/step - loss: 2.5129e-04\n",
            "Epoch 177/200\n",
            "1257/1257 [==============================] - 0s 231us/step - loss: 2.5176e-04\n",
            "Epoch 178/200\n",
            "1257/1257 [==============================] - 0s 241us/step - loss: 2.4815e-04\n",
            "Epoch 179/200\n",
            "1257/1257 [==============================] - 0s 223us/step - loss: 2.4539e-04\n",
            "Epoch 180/200\n",
            "1257/1257 [==============================] - 0s 223us/step - loss: 2.4719e-04\n",
            "Epoch 181/200\n",
            "1257/1257 [==============================] - 0s 224us/step - loss: 2.4727e-04\n",
            "Epoch 182/200\n",
            "1257/1257 [==============================] - 0s 242us/step - loss: 2.4822e-04\n",
            "Epoch 183/200\n",
            "1257/1257 [==============================] - 0s 234us/step - loss: 2.4602e-04\n",
            "Epoch 184/200\n",
            "1257/1257 [==============================] - 0s 229us/step - loss: 2.4690e-04\n",
            "Epoch 185/200\n",
            "1257/1257 [==============================] - 0s 236us/step - loss: 2.5154e-04\n",
            "Epoch 186/200\n",
            "1257/1257 [==============================] - 0s 223us/step - loss: 2.4599e-04\n",
            "Epoch 187/200\n",
            "1257/1257 [==============================] - 0s 223us/step - loss: 2.4628e-04\n",
            "Epoch 188/200\n",
            "1257/1257 [==============================] - 0s 224us/step - loss: 2.4646e-04\n",
            "Epoch 189/200\n",
            "1257/1257 [==============================] - 0s 244us/step - loss: 2.4759e-04\n",
            "Epoch 190/200\n",
            "1257/1257 [==============================] - 0s 236us/step - loss: 2.4973e-04\n",
            "Epoch 191/200\n",
            "1257/1257 [==============================] - 0s 224us/step - loss: 2.4757e-04\n",
            "Epoch 192/200\n",
            "1257/1257 [==============================] - 0s 238us/step - loss: 2.4614e-04\n",
            "Epoch 193/200\n",
            "1257/1257 [==============================] - 0s 223us/step - loss: 2.4836e-04\n",
            "Epoch 194/200\n",
            "1257/1257 [==============================] - 0s 231us/step - loss: 2.5073e-04\n",
            "Epoch 195/200\n",
            "1257/1257 [==============================] - 0s 220us/step - loss: 2.4629e-04\n",
            "Epoch 196/200\n",
            "1257/1257 [==============================] - 0s 237us/step - loss: 2.4570e-04\n",
            "Epoch 197/200\n",
            "1257/1257 [==============================] - 0s 229us/step - loss: 2.4844e-04\n",
            "Epoch 198/200\n",
            "1257/1257 [==============================] - 0s 230us/step - loss: 2.4886e-04\n",
            "Epoch 199/200\n",
            "1257/1257 [==============================] - 0s 234us/step - loss: 2.4657e-04\n",
            "Epoch 200/200\n",
            "1257/1257 [==============================] - 0s 229us/step - loss: 2.4500e-04\n"
          ],
          "name": "stdout"
        },
        {
          "output_type": "execute_result",
          "data": {
            "text/plain": [
              "<keras.callbacks.History at 0x7f468298a240>"
            ]
          },
          "metadata": {
            "tags": []
          },
          "execution_count": 16
        }
      ]
    },
    {
      "metadata": {
        "id": "JZJ-Gjedoo_U",
        "colab_type": "code",
        "colab": {}
      },
      "cell_type": "code",
      "source": [
        "#testing the model\n",
        "test_set = pd.read_csv('deep_learning_A-Z/Volume_1-Supervised_Deep_Learning/Part_3-Recurrent_Neural_Networks-RNN/dataset/Google_Stock_Price_Test.csv')\n",
        "real_stock_price = test_set.iloc[:, 1:2].values"
      ],
      "execution_count": 0,
      "outputs": []
    },
    {
      "metadata": {
        "id": "KKNNRoJ5qm9S",
        "colab_type": "code",
        "outputId": "7a7c088e-18e4-4abe-d52c-4d2086bc91eb",
        "colab": {
          "base_uri": "https://localhost:8080/",
          "height": 357
        }
      },
      "cell_type": "code",
      "source": [
        "print(real_stock_price)"
      ],
      "execution_count": 18,
      "outputs": [
        {
          "output_type": "stream",
          "text": [
            "[[778.81]\n",
            " [788.36]\n",
            " [786.08]\n",
            " [795.26]\n",
            " [806.4 ]\n",
            " [807.86]\n",
            " [805.  ]\n",
            " [807.14]\n",
            " [807.48]\n",
            " [807.08]\n",
            " [805.81]\n",
            " [805.12]\n",
            " [806.91]\n",
            " [807.25]\n",
            " [822.3 ]\n",
            " [829.62]\n",
            " [837.81]\n",
            " [834.71]\n",
            " [814.66]\n",
            " [796.86]]\n"
          ],
          "name": "stdout"
        }
      ]
    },
    {
      "metadata": {
        "id": "jzaRrhAurV8m",
        "colab_type": "code",
        "colab": {}
      },
      "cell_type": "code",
      "source": [
        "#feature scaling\n",
        "inputs = real_stock_price\n",
        "inputs = sc.transform(inputs)\n",
        "inputs = np.reshape(inputs, (20, 1, 1))"
      ],
      "execution_count": 0,
      "outputs": []
    },
    {
      "metadata": {
        "id": "5z1--WMsqm7A",
        "colab_type": "code",
        "colab": {}
      },
      "cell_type": "code",
      "source": [
        "#prediction\n",
        "predicted_stock_price = regressor.predict(inputs)"
      ],
      "execution_count": 0,
      "outputs": []
    },
    {
      "metadata": {
        "id": "a1s1f1ztqm2_",
        "colab_type": "code",
        "colab": {}
      },
      "cell_type": "code",
      "source": [
        "#scaling to original values\n",
        "predicted_stock_price = sc.inverse_transform(predicted_stock_price)"
      ],
      "execution_count": 0,
      "outputs": []
    },
    {
      "metadata": {
        "id": "z-8wuflVs9df",
        "colab_type": "code",
        "outputId": "6f4fd89c-f6b0-497e-f1af-89cbcc6a5fee",
        "colab": {
          "base_uri": "https://localhost:8080/",
          "height": 357
        }
      },
      "cell_type": "code",
      "source": [
        "print(predicted_stock_price)"
      ],
      "execution_count": 22,
      "outputs": [
        {
          "output_type": "stream",
          "text": [
            "[[776.863  ]\n",
            " [786.18774]\n",
            " [783.9628 ]\n",
            " [792.86115]\n",
            " [802.989  ]\n",
            " [804.31415]\n",
            " [801.71783]\n",
            " [803.66077]\n",
            " [803.96936]\n",
            " [803.6063 ]\n",
            " [802.45337]\n",
            " [801.82684]\n",
            " [803.452  ]\n",
            " [803.7606 ]\n",
            " [817.3931 ]\n",
            " [824.00446]\n",
            " [831.38666]\n",
            " [828.59424]\n",
            " [810.4794 ]\n",
            " [794.3176 ]]\n"
          ],
          "name": "stdout"
        }
      ]
    },
    {
      "metadata": {
        "id": "81fhUGmItCQv",
        "colab_type": "code",
        "outputId": "9390ab44-8695-42a6-8a49-7b4227801648",
        "colab": {
          "base_uri": "https://localhost:8080/",
          "height": 376
        }
      },
      "cell_type": "code",
      "source": [
        "#visualisation\n",
        "plt.plot(real_stock_price, color = 'red', label = 'Real Google Stock Price')\n",
        "plt.plot(predicted_stock_price, color = 'blue', label = 'Predicted Google Stock Price')\n",
        "plt.title('Google Stock Price Prediction')\n",
        "plt.xlabel('Time')\n",
        "plt.ylabel('Google Stock Price')\n",
        "plt.legend()\n",
        "plt.show()"
      ],
      "execution_count": 23,
      "outputs": [
        {
          "output_type": "display_data",
          "data": {
            "image/png": "[encoded data removed]",
            "text/plain": [
              "<matplotlib.figure.Figure at 0x7f467b5f0518>"
            ]
          },
          "metadata": {
            "tags": []
          }
        }
      ]
    }
  ]
}